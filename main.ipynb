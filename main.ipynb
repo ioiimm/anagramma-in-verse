{
 "cells": [
  {
   "cell_type": "code",
   "execution_count": 1,
   "id": "32b32ff0",
   "metadata": {},
   "outputs": [],
   "source": [
    "from RusPhonetic import phonetic_module\n",
    "import string\n",
    "from ru_accent_poet import accent_line\n",
    "import re\n",
    "import csv\n",
    "import pandas as pd\n",
    "import os\n",
    "import sqlite3"
   ]
  },
  {
   "cell_type": "markdown",
   "id": "43db4377",
   "metadata": {},
   "source": [
    "Функции, подготавливающие текст к фонемному разбору (*has_cyrillic, has_latin, has_number, text_cleaning*)."
   ]
  },
  {
   "cell_type": "code",
   "execution_count": 2,
   "id": "9ef8f582",
   "metadata": {},
   "outputs": [],
   "source": [
    "def has_cyrillic(text):\n",
    "    return bool(re.search(\"[а-яА-Я]\", text))"
   ]
  },
  {
   "cell_type": "code",
   "execution_count": 3,
   "id": "db131d17",
   "metadata": {},
   "outputs": [],
   "source": [
    "def has_latin(text):\n",
    "    return bool(re.search(\"[a-zA-Z]\", text))"
   ]
  },
  {
   "cell_type": "code",
   "execution_count": 4,
   "id": "435764a1",
   "metadata": {},
   "outputs": [],
   "source": [
    "def has_number(text):\n",
    "    return bool(re.search(\"[0-9]\", text))"
   ]
  },
  {
   "cell_type": "code",
   "execution_count": 6,
   "id": "cea2cafa",
   "metadata": {},
   "outputs": [],
   "source": [
    "def text_cleaning(text):\n",
    "    punct = (string.punctuation + '«»' + '…').replace(\"'\", '')\n",
    "    text = [i.strip(punct).replace('-', '') for i in text.lower().split()]\n",
    "    text = [i for i in text if not has_latin(i) and not has_number(i) and has_cyrillic(i)]\n",
    "    return text"
   ]
  },
  {
   "cell_type": "markdown",
   "id": "5250389f",
   "metadata": {},
   "source": [
    "Функция, которая предназначена для исправления некоторых фонемных разборов, полученных RusPhonetic."
   ]
  },
  {
   "cell_type": "code",
   "execution_count": 7,
   "id": "946fa085",
   "metadata": {},
   "outputs": [],
   "source": [
    "def replace_u(word):\n",
    "    vowels = \"аяоеуюыиэё\"\n",
    "    if word.count('ю') == 1:\n",
    "        if 'ю' != word[0] and 'ью' not in word and word[word.index('ю')-1] not in vowels:\n",
    "            new_word = word.replace('ю', 'ью')\n",
    "            return new_word, 1\n",
    "        else:\n",
    "            return word, 0\n",
    "    else:\n",
    "        return word, 0"
   ]
  },
  {
   "cell_type": "markdown",
   "id": "3085aa74",
   "metadata": {},
   "source": [
    "Функция определяет номер ударного слога."
   ]
  },
  {
   "cell_type": "code",
   "execution_count": 8,
   "id": "a1598306",
   "metadata": {},
   "outputs": [],
   "source": [
    "def stress_position(stressed_word):  # требуется слово с размеченным ударением\n",
    "    vowels = \"аяоеуюыиэё\"\n",
    "    word_vowels = []\n",
    "    flag = 0\n",
    "    for letter in stressed_word:\n",
    "        flag += 1\n",
    "        if letter in vowels:\n",
    "            if flag != len(stressed_word):\n",
    "                if stressed_word[flag] == \"'\" or stressed_word[flag] == \" \":\n",
    "                    word_vowels.extend([letter, \"+\"])\n",
    "                else:\n",
    "                    word_vowels.append(letter)\n",
    "            else:\n",
    "                word_vowels.append(letter)\n",
    "    if len(word_vowels) > 1:\n",
    "        if \"ё\" not in stressed_word:\n",
    "            try:\n",
    "                stressed_position = word_vowels.index(\"+\")\n",
    "            except ValueError:\n",
    "                return None\n",
    "        else:\n",
    "            stressed_position = word_vowels.index(\"ё\")+1\n",
    "    else:\n",
    "        stressed_position = 1\n",
    "    return stressed_position"
   ]
  },
  {
   "cell_type": "markdown",
   "id": "cd1ef4f9",
   "metadata": {},
   "source": [
    "Функция осуществляет фонемный разбор текста на основе модулей *ru_accent_poet* (расставляет ударение) и *RusPhonetic* (проводит фонемный разбор слова)."
   ]
  },
  {
   "cell_type": "code",
   "execution_count": 9,
   "id": "f15917cc",
   "metadata": {},
   "outputs": [],
   "source": [
    "def text_transcription(text):\n",
    "    text_cleaned = text_cleaning(text)\n",
    "    accented_text = text_cleaning(accent_line(text))\n",
    "    text_transc = []\n",
    "    vowels = \"аоуыиэ\"\n",
    "    for word in text_cleaned:\n",
    "        if stress_position(accented_text[text_cleaned.index(word)]) is not None:\n",
    "            st_position = stress_position(accented_text[text_cleaned.index(word)])\n",
    "            word_transc = phonetic_module.Phonetic(replace_u(word)[0], st_position).get_phonetic()\n",
    "            if replace_u(word)[1] == 1:\n",
    "                word_transc = word_transc.replace(\"й'у\", \"у\")\n",
    "            flag_vow = 0\n",
    "            flag_ph = 0\n",
    "            for phonem in word_transc:\n",
    "                flag_ph += 1\n",
    "                if phonem in vowels:\n",
    "                    flag_vow += 1\n",
    "                    if flag_vow == st_position:\n",
    "                        text_transc.append(word_transc[:flag_ph] + '+' + word_transc[flag_ph:])\n",
    "    return text_transc"
   ]
  },
  {
   "cell_type": "markdown",
   "id": "9a4792f6",
   "metadata": {},
   "source": [
    "Функции, собирающие данные для проверки гипотезы H0 с помощью критерия хи-квадрат."
   ]
  },
  {
   "cell_type": "code",
   "execution_count": 10,
   "id": "262b2631",
   "metadata": {},
   "outputs": [],
   "source": [
    "def get_phonems(text_transcripted):\n",
    "    text_transcripted = [i.replace(\"'\", '').replace(':', '') for i in text_transcripted]\n",
    "    return list(set(''.join(text_transcripted)))"
   ]
  },
  {
   "cell_type": "code",
   "execution_count": 11,
   "id": "4f978490",
   "metadata": {},
   "outputs": [],
   "source": [
    "def phonem_sep(lemma):  # работает с одним словом\n",
    "    st = lemma.index('+')\n",
    "    phonems = list(lemma[:st-1]) + [lemma[st-1:st+1]] + list(lemma[st+1:])\n",
    "    phonems = [i for i in phonems if i != ':' and i != \"'\"]\n",
    "    return phonems"
   ]
  },
  {
   "cell_type": "code",
   "execution_count": 12,
   "id": "1c94c993",
   "metadata": {},
   "outputs": [],
   "source": [
    "# text_transcripted - список из слов с выполненным фонетическим разбором\n",
    "def count_phonems(text_transcripted):\n",
    "    phonems = 0\n",
    "    for i in text_transcripted:\n",
    "        phonems += len(phonem_sep(i))\n",
    "    return phonems"
   ]
  },
  {
   "cell_type": "code",
   "execution_count": 13,
   "id": "114a4fc5",
   "metadata": {},
   "outputs": [],
   "source": [
    "# считается встречаемость одной фонемы\n",
    "def count_phonem_1(ph, text_transcripted):\n",
    "    return ''.join(text_transcripted).count(ph)"
   ]
  },
  {
   "cell_type": "markdown",
   "id": "6c4ececa",
   "metadata": {},
   "source": [
    "Распределение частот фонем в речи, эмпирически найденных Генри Кучера в современной русской прозе.\n",
    "\n",
    "(H. Kučera. Entropy, redundancy and functional load in Russian and Czech // *American Contr. to the 5th International Congress of Slavists* 1. The Hague: Mouton, 1963. P. 191–218.)\n",
    "\n",
    "В файле *ph_kuc_baev.csv* находятся фонемы Кучера, записанные латиницей, и соответсвующие им фонемы, записанные кириллицей (знаком \"+\" обозначено ударение, значения парных и твердых согласных объединялись)."
   ]
  },
  {
   "cell_type": "code",
   "execution_count": 14,
   "id": "1f49c16b",
   "metadata": {},
   "outputs": [],
   "source": [
    "with open('ph_kuc_baev.csv', newline='', encoding='utf-8') as f:\n",
    "    reader = csv.DictReader(f, delimiter=';')\n",
    "    phons_dct = {}\n",
    "    for row in reader:\n",
    "        phons_dct[row['ph_cyr']] = {'freq': round(float(row['freq'])/1000, 6), 'ph_lat': row['ph_lat']}"
   ]
  },
  {
   "cell_type": "code",
   "execution_count": 15,
   "id": "cf4bc007",
   "metadata": {},
   "outputs": [],
   "source": [
    "data = pd.read_csv('ph_kuc_baev.csv', delimiter=';')\n",
    "data = data.set_index('ph_lat')\n",
    "data = data.fillna('None')\n",
    "data = pd.DataFrame(data)"
   ]
  },
  {
   "cell_type": "code",
   "execution_count": 16,
   "id": "4d3ac1c8",
   "metadata": {},
   "outputs": [
    {
     "data": {
      "text/html": [
       "<div>\n",
       "<style scoped>\n",
       "    .dataframe tbody tr th:only-of-type {\n",
       "        vertical-align: middle;\n",
       "    }\n",
       "\n",
       "    .dataframe tbody tr th {\n",
       "        vertical-align: top;\n",
       "    }\n",
       "\n",
       "    .dataframe thead th {\n",
       "        text-align: right;\n",
       "    }\n",
       "</style>\n",
       "<table border=\"1\" class=\"dataframe\">\n",
       "  <thead>\n",
       "    <tr style=\"text-align: right;\">\n",
       "      <th></th>\n",
       "      <th>freq</th>\n",
       "      <th>ph_cyr</th>\n",
       "    </tr>\n",
       "    <tr>\n",
       "      <th>ph_lat</th>\n",
       "      <th></th>\n",
       "      <th></th>\n",
       "    </tr>\n",
       "  </thead>\n",
       "  <tbody>\n",
       "    <tr>\n",
       "      <th>i</th>\n",
       "      <td>116.857</td>\n",
       "      <td>и</td>\n",
       "    </tr>\n",
       "    <tr>\n",
       "      <th>í</th>\n",
       "      <td>29.146</td>\n",
       "      <td>и+</td>\n",
       "    </tr>\n",
       "    <tr>\n",
       "      <th>u</th>\n",
       "      <td>22.512</td>\n",
       "      <td>у</td>\n",
       "    </tr>\n",
       "    <tr>\n",
       "      <th>ú</th>\n",
       "      <td>14.508</td>\n",
       "      <td>у+</td>\n",
       "    </tr>\n",
       "    <tr>\n",
       "      <th>a</th>\n",
       "      <td>132.119</td>\n",
       "      <td>а</td>\n",
       "    </tr>\n",
       "    <tr>\n",
       "      <th>á</th>\n",
       "      <td>48.561</td>\n",
       "      <td>а+</td>\n",
       "    </tr>\n",
       "    <tr>\n",
       "      <th>ó</th>\n",
       "      <td>41.909</td>\n",
       "      <td>о+</td>\n",
       "    </tr>\n",
       "    <tr>\n",
       "      <th>é</th>\n",
       "      <td>27.314</td>\n",
       "      <td>э+</td>\n",
       "    </tr>\n",
       "    <tr>\n",
       "      <th>j</th>\n",
       "      <td>42.858</td>\n",
       "      <td>й</td>\n",
       "    </tr>\n",
       "    <tr>\n",
       "      <th>m</th>\n",
       "      <td>33.236</td>\n",
       "      <td>м</td>\n",
       "    </tr>\n",
       "    <tr>\n",
       "      <th>r</th>\n",
       "      <td>45.208</td>\n",
       "      <td>р</td>\n",
       "    </tr>\n",
       "    <tr>\n",
       "      <th>l</th>\n",
       "      <td>50.710</td>\n",
       "      <td>л</td>\n",
       "    </tr>\n",
       "    <tr>\n",
       "      <th>n</th>\n",
       "      <td>66.523</td>\n",
       "      <td>н</td>\n",
       "    </tr>\n",
       "    <tr>\n",
       "      <th>č</th>\n",
       "      <td>17.314</td>\n",
       "      <td>ч</td>\n",
       "    </tr>\n",
       "    <tr>\n",
       "      <th>c</th>\n",
       "      <td>6.251</td>\n",
       "      <td>ц</td>\n",
       "    </tr>\n",
       "    <tr>\n",
       "      <th>x</th>\n",
       "      <td>10.687</td>\n",
       "      <td>х</td>\n",
       "    </tr>\n",
       "    <tr>\n",
       "      <th>š</th>\n",
       "      <td>16.580</td>\n",
       "      <td>ш</td>\n",
       "    </tr>\n",
       "    <tr>\n",
       "      <th>ž</th>\n",
       "      <td>10.204</td>\n",
       "      <td>ж</td>\n",
       "    </tr>\n",
       "    <tr>\n",
       "      <th>k</th>\n",
       "      <td>39.350</td>\n",
       "      <td>к</td>\n",
       "    </tr>\n",
       "    <tr>\n",
       "      <th>g</th>\n",
       "      <td>13.966</td>\n",
       "      <td>г</td>\n",
       "    </tr>\n",
       "    <tr>\n",
       "      <th>p</th>\n",
       "      <td>29.610</td>\n",
       "      <td>п</td>\n",
       "    </tr>\n",
       "    <tr>\n",
       "      <th>b</th>\n",
       "      <td>15.847</td>\n",
       "      <td>б</td>\n",
       "    </tr>\n",
       "    <tr>\n",
       "      <th>f</th>\n",
       "      <td>10.975</td>\n",
       "      <td>ф</td>\n",
       "    </tr>\n",
       "    <tr>\n",
       "      <th>v</th>\n",
       "      <td>41.847</td>\n",
       "      <td>в</td>\n",
       "    </tr>\n",
       "    <tr>\n",
       "      <th>t</th>\n",
       "      <td>64.452</td>\n",
       "      <td>т</td>\n",
       "    </tr>\n",
       "    <tr>\n",
       "      <th>d</th>\n",
       "      <td>28.664</td>\n",
       "      <td>д</td>\n",
       "    </tr>\n",
       "    <tr>\n",
       "      <th>s</th>\n",
       "      <td>51.750</td>\n",
       "      <td>с</td>\n",
       "    </tr>\n",
       "    <tr>\n",
       "      <th>z</th>\n",
       "      <td>17.958</td>\n",
       "      <td>з</td>\n",
       "    </tr>\n",
       "  </tbody>\n",
       "</table>\n",
       "</div>"
      ],
      "text/plain": [
       "           freq ph_cyr\n",
       "ph_lat                \n",
       "i       116.857      и\n",
       "í        29.146     и+\n",
       "u        22.512      у\n",
       "ú        14.508     у+\n",
       "a       132.119      а\n",
       "á        48.561     а+\n",
       "ó        41.909     о+\n",
       "é        27.314     э+\n",
       "j        42.858      й\n",
       "m        33.236      м\n",
       "r        45.208      р\n",
       "l        50.710      л\n",
       "n        66.523      н\n",
       "č        17.314      ч\n",
       "c         6.251      ц\n",
       "x        10.687      х\n",
       "š        16.580      ш\n",
       "ž        10.204      ж\n",
       "k        39.350      к\n",
       "g        13.966      г\n",
       "p        29.610      п\n",
       "b        15.847      б\n",
       "f        10.975      ф\n",
       "v        41.847      в\n",
       "t        64.452      т\n",
       "d        28.664      д\n",
       "s        51.750      с\n",
       "z        17.958      з"
      ]
     },
     "execution_count": 16,
     "metadata": {},
     "output_type": "execute_result"
    }
   ],
   "source": [
    "data"
   ]
  },
  {
   "cell_type": "code",
   "execution_count": 101,
   "id": "d57b7f83",
   "metadata": {},
   "outputs": [],
   "source": [
    "def get_frequency(ph):\n",
    "    if ph == 'ы':\n",
    "        return phons_dct['и']['freq']\n",
    "    elif ph == 'ы+':\n",
    "        return phons_dct['и+']['freq']\n",
    "    elif ph == 'э':\n",
    "        return phons_dct['и']['freq']\n",
    "    elif ph == 'щ':\n",
    "        return phons_dct['ш']['freq']\n",
    "    elif ph == 'о':\n",
    "        return phons_dct['о+']['freq']\n",
    "    else:\n",
    "        return phons_dct[ph]['freq']"
   ]
  },
  {
   "cell_type": "markdown",
   "id": "17b4d837",
   "metadata": {},
   "source": [
    "Функция, проверяющая гипотезу H0 (частота фонемы в тексте не отличается от ее частоты в речи) на нескольких уровнях значимости (0.1: 2.71; 0.05: 3.84; 0.01: 6.64)."
   ]
  },
  {
   "cell_type": "code",
   "execution_count": 102,
   "id": "1aa8723d",
   "metadata": {},
   "outputs": [],
   "source": [
    "def hypothesis_h0(lemma, text_transcripted):\n",
    "    phonems = phonem_sep(lemma)\n",
    "    lemma_data = dict.fromkeys(phonems, True)\n",
    "    all_ph = count_phonems(text_transcripted)\n",
    "    for phon in lemma_data.keys():\n",
    "        ph1_total = count_phonem_1(phon, text_transcripted)\n",
    "        if ph1_total != 0:\n",
    "            frequency = get_frequency(phon)\n",
    "            if all_ph * frequency >= 4:\n",
    "                criteria_x = (ph1_total - all_ph * frequency)**2 / (all_ph * frequency * (1 - frequency))\n",
    "                if criteria_x > 6.64:  # 2.71 3.84 6.64\n",
    "                    lemma_data[phon] = False\n",
    "            else:\n",
    "                all_ph1 = all_ph\n",
    "                while all_ph1 * frequency < 4:\n",
    "                    all_ph1 += 1\n",
    "                criteria_x = (ph1_total - all_ph1 * frequency)**2 / (all_ph1 * frequency * (1 - frequency))\n",
    "                if criteria_x > 6.64:  # 2.71 3.84 6.64\n",
    "                    lemma_data[phon] = False\n",
    "        else:\n",
    "            lemma_data[phon] = None\n",
    "    return lemma_data"
   ]
  },
  {
   "cell_type": "markdown",
   "id": "8bd779c4",
   "metadata": {},
   "source": [
    "Функция собирает полные анаграммы."
   ]
  },
  {
   "cell_type": "code",
   "execution_count": 103,
   "id": "f4c21213",
   "metadata": {},
   "outputs": [],
   "source": [
    "def word_collector(lemma_data): # все подходящие слова\n",
    "    if None not in lemma_data.values():\n",
    "        if len(lemma_data) - list(lemma_data.values()).count(False) == 0: # !!!\n",
    "            return lemma_data"
   ]
  },
  {
   "cell_type": "markdown",
   "id": "b64ea1bc",
   "metadata": {},
   "source": [
    "Функции, собирающие неполные анаграммы 3 типов (*word_collector2, word_collector3, word_collector4*)."
   ]
  },
  {
   "cell_type": "code",
   "execution_count": 104,
   "id": "89e5c1c4",
   "metadata": {},
   "outputs": [],
   "source": [
    "def word_collector2(lemma_data): # все подходящие слова без учета гласных\n",
    "    vowels = ['а', 'о', 'у', 'ы', 'и', 'э', 'а+', 'о+', 'у+', 'ы+', 'и+', 'э+']\n",
    "    cons_lst = [i for i in list(lemma_data) if i not in vowels]\n",
    "    cons_counter = 0\n",
    "    if None not in lemma_data.values():\n",
    "        for i in cons_lst:\n",
    "            if lemma_data[i] == False:\n",
    "                cons_counter += 1\n",
    "        if len(cons_lst) - cons_counter == 0:  # !!!\n",
    "            return lemma_data"
   ]
  },
  {
   "cell_type": "code",
   "execution_count": 105,
   "id": "248bc1a0",
   "metadata": {},
   "outputs": [],
   "source": [
    "def word_collector3(lemma_data): # все подходящие слова без учета гласных и без 1 согласной\n",
    "    vowels = ['а', 'о', 'у', 'ы', 'и', 'э', 'а+', 'о+', 'у+', 'ы+', 'и+', 'э+']\n",
    "    cons_lst = [i for i in list(lemma_data) if i not in vowels]\n",
    "    cons_counter = 0\n",
    "    if None not in lemma_data.values():\n",
    "        for i in cons_lst:\n",
    "            if lemma_data[i] == False:\n",
    "                cons_counter += 1\n",
    "        if len(cons_lst) - cons_counter == 1:  # !!!\n",
    "            return lemma_data"
   ]
  },
  {
   "cell_type": "code",
   "execution_count": 106,
   "id": "8b1ba7c6",
   "metadata": {},
   "outputs": [],
   "source": [
    "def word_collector4(lemma_data): # все подходящие слова без 1 фонемы\n",
    "    if None not in lemma_data.values():\n",
    "        if len(lemma_data) - list(lemma_data.values()).count(False) == 1: # !!!\n",
    "            return lemma_data"
   ]
  },
  {
   "cell_type": "markdown",
   "id": "bc855619",
   "metadata": {},
   "source": [
    "Функция, анализируя фонетически разобранное стихотворение, собирает анаграммы 4 типов с помощью критерия хи-квадрат и базы данных, содержащей леммы из МАС и их фонетический разбор. "
   ]
  },
  {
   "cell_type": "code",
   "execution_count": 18,
   "id": "f3b5b3ed",
   "metadata": {},
   "outputs": [
    {
     "name": "stdout",
     "output_type": "stream",
     "text": [
      "77195\n"
     ]
    }
   ],
   "source": [
    "con = sqlite3.connect('data.db')\n",
    "cur = con.cursor()\n",
    "lem_query = \"\"\"\n",
    "SELECT DISTINCT word_nom, transcripted FROM dictionary\n",
    "\"\"\"\n",
    "cur.execute(lem_query)\n",
    "result = cur.fetchall()\n",
    "print(len(result))"
   ]
  },
  {
   "cell_type": "code",
   "execution_count": 19,
   "id": "a1d4263b",
   "metadata": {},
   "outputs": [
    {
     "data": {
      "text/plain": [
       "('вагонетчица', \"ваган'э+ч':ица\")"
      ]
     },
     "execution_count": 19,
     "metadata": {},
     "output_type": "execute_result"
    }
   ],
   "source": [
    "result[10]"
   ]
  },
  {
   "cell_type": "code",
   "execution_count": 107,
   "id": "e8218d63",
   "metadata": {},
   "outputs": [],
   "source": [
    "# собирает анаграммы одного фонетически разобранного стихотворения\n",
    "def anagrams(poem_tr):\n",
    "    a_all = []  # полные анаграммы (учитываются все фонемы слова)\n",
    "    a_cons = []  # анаграммы без учета гласных\n",
    "    a_cons1 = []  # анаграммы без учета гласных и одной из согласных\n",
    "    a_all1 = []  # анаграммы без учета одной фонемы\n",
    "    for pair in result:  # берется из базы данных data.db\n",
    "        lemma_data = hypothesis_h0(pair[1], poem_tr)\n",
    "        a = word_collector(lemma_data)\n",
    "        b = word_collector2(lemma_data)\n",
    "        c = word_collector3(lemma_data)\n",
    "        d = word_collector4(lemma_data)\n",
    "        if a:\n",
    "            a_all.append(pair)\n",
    "        if b:\n",
    "            a_cons.append(pair)\n",
    "        if c:\n",
    "            a_cons1.append(pair)\n",
    "        if d:\n",
    "            a_all1.append(pair)\n",
    "    return a_all, a_cons, a_cons1, a_all1"
   ]
  },
  {
   "cell_type": "markdown",
   "id": "f568a262",
   "metadata": {},
   "source": [
    "*ph_to_lett, data_to_base* - сбор данных в удобном для записи в базу формате."
   ]
  },
  {
   "cell_type": "code",
   "execution_count": 108,
   "id": "fbb31ad9",
   "metadata": {},
   "outputs": [],
   "source": [
    "def ph_to_lett(anagr_tpl):\n",
    "    t1 = []\n",
    "    t2 = []\n",
    "    t3 = []\n",
    "    t4 = []\n",
    "    for i in anagr_tpl[0]:\n",
    "        t1.append(i[0])\n",
    "    for i in anagr_tpl[1]:\n",
    "        t2.append(i[0])\n",
    "    for i in anagr_tpl[2]:\n",
    "        t3.append(i[0])\n",
    "    for i in anagr_tpl[3]:\n",
    "        t4.append(i[0])\n",
    "    return t1, t2, t3, t4"
   ]
  },
  {
   "cell_type": "code",
   "execution_count": 78,
   "id": "cb22e770",
   "metadata": {
    "scrolled": true
   },
   "outputs": [],
   "source": [
    "data_to_base = []\n",
    "for i in respo:\n",
    "    indx = i[0]  # индекс\n",
    "    txtau = i[1]  # автор\n",
    "    txtp = i[2]  # текст\n",
    "    tr = i[3].split()  # транскрипция текста - список\n",
    "    txttr = i[3]  # транскрипция текста - строка\n",
    "    alles = ph_to_lett(anagrams(tr))  # все анаграммы\n",
    "    all_true = '\\n'.join(alles[0]) # полная анаграмма\n",
    "    all_cons = '\\n'.join(alles[1]) # только согласные\n",
    "    cons_1 = '\\n'.join(alles[2]) # только согласные без одного\n",
    "    all_1 = '\\n'.join(alles[3]) # все фонемы кроме одной\n",
    "    data_to_base.append((indx, txtau, txttr, all_true, len(alles[0]), all_cons, len(alles[1]), cons_1, len(alles[2]), all_1, len(alles[3])))"
   ]
  }
 ],
 "metadata": {
  "kernelspec": {
   "display_name": "Python 3 (ipykernel)",
   "language": "python",
   "name": "python3"
  },
  "language_info": {
   "codemirror_mode": {
    "name": "ipython",
    "version": 3
   },
   "file_extension": ".py",
   "mimetype": "text/x-python",
   "name": "python",
   "nbconvert_exporter": "python",
   "pygments_lexer": "ipython3",
   "version": "3.9.7"
  }
 },
 "nbformat": 4,
 "nbformat_minor": 5
}
